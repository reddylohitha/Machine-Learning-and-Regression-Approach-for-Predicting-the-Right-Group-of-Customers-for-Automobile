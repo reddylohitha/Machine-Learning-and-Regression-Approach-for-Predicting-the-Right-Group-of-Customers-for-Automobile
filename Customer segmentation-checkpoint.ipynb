{
 "cells": [
  {
   "cell_type": "markdown",
   "id": "bbf32d64",
   "metadata": {},
   "source": [
    "# Machine Learning Based Approach for Predicting Target Customer Segments in the Automobile Industry"
   ]
  },
  {
   "cell_type": "markdown",
   "id": "b1d1e728",
   "metadata": {},
   "source": [
    "# Importing libraries"
   ]
  },
  {
   "cell_type": "code",
   "execution_count": 1,
   "id": "3ef61f11",
   "metadata": {
    "_cell_guid": "b1076dfc-b9ad-4769-8c92-a6c4dae69d19",
    "_uuid": "8f2839f25d086af736a60e9eeb907d3b93b6e0e5",
    "execution": {
     "iopub.execute_input": "2022-09-30T02:49:40.554187Z",
     "iopub.status.busy": "2022-09-30T02:49:40.553218Z",
     "iopub.status.idle": "2022-09-30T02:49:41.798393Z",
     "shell.execute_reply": "2022-09-30T02:49:41.797140Z"
    },
    "papermill": {
     "duration": 1.26041,
     "end_time": "2022-09-30T02:49:41.801668",
     "exception": false,
     "start_time": "2022-09-30T02:49:40.541258",
     "status": "completed"
    },
    "tags": []
   },
   "outputs": [],
   "source": [
    "import numpy as np # linear algebra\n",
    "import pandas as pd # data processing, CSV file I/O (e.g. pd.read_csv)\n",
    "import matplotlib.pyplot as plt # Data Visualization\n",
    "import seaborn as sns #Data Visualization\n",
    "from pandas.api.types import is_string_dtype #Check Datatype\n",
    "from pandas.api.types import is_numeric_dtype #Check Datatype\n",
    "from sklearn.preprocessing import LabelEncoder #preProcessing data\n",
    "from sklearn.model_selection import train_test_split\n",
    "from sklearn.preprocessing import StandardScaler"
   ]
  },
  {
   "cell_type": "markdown",
   "id": "527a0040",
   "metadata": {},
   "source": [
    "# Importing the dataset"
   ]
  },
  {
   "cell_type": "code",
   "execution_count": 2,
   "id": "3dc6ab05",
   "metadata": {
    "execution": {
     "iopub.execute_input": "2022-09-30T02:49:41.818074Z",
     "iopub.status.busy": "2022-09-30T02:49:41.817135Z",
     "iopub.status.idle": "2022-09-30T02:49:41.877715Z",
     "shell.execute_reply": "2022-09-30T02:49:41.876606Z"
    },
    "papermill": {
     "duration": 0.071353,
     "end_time": "2022-09-30T02:49:41.880190",
     "exception": false,
     "start_time": "2022-09-30T02:49:41.808837",
     "status": "completed"
    },
    "tags": []
   },
   "outputs": [
    {
     "data": {
      "text/html": [
       "<div>\n",
       "<style scoped>\n",
       "    .dataframe tbody tr th:only-of-type {\n",
       "        vertical-align: middle;\n",
       "    }\n",
       "\n",
       "    .dataframe tbody tr th {\n",
       "        vertical-align: top;\n",
       "    }\n",
       "\n",
       "    .dataframe thead th {\n",
       "        text-align: right;\n",
       "    }\n",
       "</style>\n",
       "<table border=\"1\" class=\"dataframe\">\n",
       "  <thead>\n",
       "    <tr style=\"text-align: right;\">\n",
       "      <th></th>\n",
       "      <th>ID</th>\n",
       "      <th>Gender</th>\n",
       "      <th>Ever_Married</th>\n",
       "      <th>Age</th>\n",
       "      <th>Graduated</th>\n",
       "      <th>Profession</th>\n",
       "      <th>Work_Experience</th>\n",
       "      <th>Spending_Score</th>\n",
       "      <th>Family_Size</th>\n",
       "      <th>Var_1</th>\n",
       "      <th>Segmentation</th>\n",
       "    </tr>\n",
       "  </thead>\n",
       "  <tbody>\n",
       "    <tr>\n",
       "      <th>0</th>\n",
       "      <td>462809</td>\n",
       "      <td>Male</td>\n",
       "      <td>No</td>\n",
       "      <td>22</td>\n",
       "      <td>No</td>\n",
       "      <td>Healthcare</td>\n",
       "      <td>1.0</td>\n",
       "      <td>Low</td>\n",
       "      <td>4.0</td>\n",
       "      <td>Cat_4</td>\n",
       "      <td>D</td>\n",
       "    </tr>\n",
       "    <tr>\n",
       "      <th>1</th>\n",
       "      <td>462643</td>\n",
       "      <td>Female</td>\n",
       "      <td>Yes</td>\n",
       "      <td>38</td>\n",
       "      <td>Yes</td>\n",
       "      <td>Engineer</td>\n",
       "      <td>NaN</td>\n",
       "      <td>Average</td>\n",
       "      <td>3.0</td>\n",
       "      <td>Cat_4</td>\n",
       "      <td>A</td>\n",
       "    </tr>\n",
       "    <tr>\n",
       "      <th>2</th>\n",
       "      <td>466315</td>\n",
       "      <td>Female</td>\n",
       "      <td>Yes</td>\n",
       "      <td>67</td>\n",
       "      <td>Yes</td>\n",
       "      <td>Engineer</td>\n",
       "      <td>1.0</td>\n",
       "      <td>Low</td>\n",
       "      <td>1.0</td>\n",
       "      <td>Cat_6</td>\n",
       "      <td>B</td>\n",
       "    </tr>\n",
       "    <tr>\n",
       "      <th>3</th>\n",
       "      <td>461735</td>\n",
       "      <td>Male</td>\n",
       "      <td>Yes</td>\n",
       "      <td>67</td>\n",
       "      <td>Yes</td>\n",
       "      <td>Lawyer</td>\n",
       "      <td>0.0</td>\n",
       "      <td>High</td>\n",
       "      <td>2.0</td>\n",
       "      <td>Cat_6</td>\n",
       "      <td>B</td>\n",
       "    </tr>\n",
       "    <tr>\n",
       "      <th>4</th>\n",
       "      <td>462669</td>\n",
       "      <td>Female</td>\n",
       "      <td>Yes</td>\n",
       "      <td>40</td>\n",
       "      <td>Yes</td>\n",
       "      <td>Entertainment</td>\n",
       "      <td>NaN</td>\n",
       "      <td>High</td>\n",
       "      <td>6.0</td>\n",
       "      <td>Cat_6</td>\n",
       "      <td>A</td>\n",
       "    </tr>\n",
       "  </tbody>\n",
       "</table>\n",
       "</div>"
      ],
      "text/plain": [
       "       ID  Gender Ever_Married  Age Graduated     Profession  Work_Experience  \\\n",
       "0  462809    Male           No   22        No     Healthcare              1.0   \n",
       "1  462643  Female          Yes   38       Yes       Engineer              NaN   \n",
       "2  466315  Female          Yes   67       Yes       Engineer              1.0   \n",
       "3  461735    Male          Yes   67       Yes         Lawyer              0.0   \n",
       "4  462669  Female          Yes   40       Yes  Entertainment              NaN   \n",
       "\n",
       "  Spending_Score  Family_Size  Var_1 Segmentation  \n",
       "0            Low          4.0  Cat_4            D  \n",
       "1        Average          3.0  Cat_4            A  \n",
       "2            Low          1.0  Cat_6            B  \n",
       "3           High          2.0  Cat_6            B  \n",
       "4           High          6.0  Cat_6            A  "
      ]
     },
     "execution_count": 2,
     "metadata": {},
     "output_type": "execute_result"
    }
   ],
   "source": [
    "# Read the Training dataset\n",
    "data=pd.read_csv('Train.csv')\n",
    "data.head()"
   ]
  },
  {
   "cell_type": "code",
   "execution_count": 3,
   "id": "559179b0",
   "metadata": {
    "execution": {
     "iopub.execute_input": "2022-09-30T02:49:41.896055Z",
     "iopub.status.busy": "2022-09-30T02:49:41.895637Z",
     "iopub.status.idle": "2022-09-30T02:49:41.908665Z",
     "shell.execute_reply": "2022-09-30T02:49:41.907626Z"
    },
    "papermill": {
     "duration": 0.023815,
     "end_time": "2022-09-30T02:49:41.910983",
     "exception": false,
     "start_time": "2022-09-30T02:49:41.887168",
     "status": "completed"
    },
    "tags": []
   },
   "outputs": [],
   "source": [
    "# Checking  null values"
   ]
  },
  {
   "cell_type": "code",
   "execution_count": 4,
   "id": "a7957e72",
   "metadata": {},
   "outputs": [
    {
     "data": {
      "text/plain": [
       "ID                   0\n",
       "Gender               0\n",
       "Ever_Married       140\n",
       "Age                  0\n",
       "Graduated           78\n",
       "Profession         124\n",
       "Work_Experience    829\n",
       "Spending_Score       0\n",
       "Family_Size        335\n",
       "Var_1               76\n",
       "Segmentation         0\n",
       "dtype: int64"
      ]
     },
     "execution_count": 4,
     "metadata": {},
     "output_type": "execute_result"
    }
   ],
   "source": [
    "data.isnull().sum()"
   ]
  },
  {
   "cell_type": "code",
   "execution_count": 5,
   "id": "c9702c77",
   "metadata": {
    "execution": {
     "iopub.execute_input": "2022-09-30T02:49:41.927277Z",
     "iopub.status.busy": "2022-09-30T02:49:41.926775Z",
     "iopub.status.idle": "2022-09-30T02:49:41.955750Z",
     "shell.execute_reply": "2022-09-30T02:49:41.954375Z"
    },
    "papermill": {
     "duration": 0.040404,
     "end_time": "2022-09-30T02:49:41.958502",
     "exception": false,
     "start_time": "2022-09-30T02:49:41.918098",
     "status": "completed"
    },
    "tags": []
   },
   "outputs": [
    {
     "name": "stdout",
     "output_type": "stream",
     "text": [
      "<class 'pandas.core.frame.DataFrame'>\n",
      "RangeIndex: 8068 entries, 0 to 8067\n",
      "Data columns (total 11 columns):\n",
      "ID                 8068 non-null int64\n",
      "Gender             8068 non-null object\n",
      "Ever_Married       7928 non-null object\n",
      "Age                8068 non-null int64\n",
      "Graduated          7990 non-null object\n",
      "Profession         7944 non-null object\n",
      "Work_Experience    7239 non-null float64\n",
      "Spending_Score     8068 non-null object\n",
      "Family_Size        7733 non-null float64\n",
      "Var_1              7992 non-null object\n",
      "Segmentation       8068 non-null object\n",
      "dtypes: float64(2), int64(2), object(7)\n",
      "memory usage: 693.5+ KB\n"
     ]
    }
   ],
   "source": [
    "# Study the data\n",
    "data.info()"
   ]
  },
  {
   "cell_type": "code",
   "execution_count": 6,
   "id": "9287f48b",
   "metadata": {
    "execution": {
     "iopub.execute_input": "2022-09-30T02:49:41.990393Z",
     "iopub.status.busy": "2022-09-30T02:49:41.989349Z",
     "iopub.status.idle": "2022-09-30T02:49:41.997888Z",
     "shell.execute_reply": "2022-09-30T02:49:41.996509Z"
    },
    "papermill": {
     "duration": 0.02118,
     "end_time": "2022-09-30T02:49:42.001103",
     "exception": false,
     "start_time": "2022-09-30T02:49:41.979923",
     "status": "completed"
    },
    "tags": []
   },
   "outputs": [
    {
     "data": {
      "text/plain": [
       "(8068, 11)"
      ]
     },
     "execution_count": 6,
     "metadata": {},
     "output_type": "execute_result"
    }
   ],
   "source": [
    "#data contains 8068 rows and 11 columns.\n",
    "data.shape"
   ]
  },
  {
   "cell_type": "code",
   "execution_count": 7,
   "id": "fee6bf6d",
   "metadata": {
    "execution": {
     "iopub.execute_input": "2022-09-30T02:49:42.020602Z",
     "iopub.status.busy": "2022-09-30T02:49:42.019546Z",
     "iopub.status.idle": "2022-09-30T02:49:42.052441Z",
     "shell.execute_reply": "2022-09-30T02:49:42.050977Z"
    },
    "papermill": {
     "duration": 0.04639,
     "end_time": "2022-09-30T02:49:42.055645",
     "exception": false,
     "start_time": "2022-09-30T02:49:42.009255",
     "status": "completed"
    },
    "tags": []
   },
   "outputs": [
    {
     "data": {
      "text/html": [
       "<div>\n",
       "<style scoped>\n",
       "    .dataframe tbody tr th:only-of-type {\n",
       "        vertical-align: middle;\n",
       "    }\n",
       "\n",
       "    .dataframe tbody tr th {\n",
       "        vertical-align: top;\n",
       "    }\n",
       "\n",
       "    .dataframe thead th {\n",
       "        text-align: right;\n",
       "    }\n",
       "</style>\n",
       "<table border=\"1\" class=\"dataframe\">\n",
       "  <thead>\n",
       "    <tr style=\"text-align: right;\">\n",
       "      <th></th>\n",
       "      <th>ID</th>\n",
       "      <th>Age</th>\n",
       "      <th>Work_Experience</th>\n",
       "      <th>Family_Size</th>\n",
       "    </tr>\n",
       "  </thead>\n",
       "  <tbody>\n",
       "    <tr>\n",
       "      <th>count</th>\n",
       "      <td>8068.000000</td>\n",
       "      <td>8068.000000</td>\n",
       "      <td>7239.000000</td>\n",
       "      <td>7733.000000</td>\n",
       "    </tr>\n",
       "    <tr>\n",
       "      <th>mean</th>\n",
       "      <td>463479.214551</td>\n",
       "      <td>43.466906</td>\n",
       "      <td>2.641663</td>\n",
       "      <td>2.850123</td>\n",
       "    </tr>\n",
       "    <tr>\n",
       "      <th>std</th>\n",
       "      <td>2595.381232</td>\n",
       "      <td>16.711696</td>\n",
       "      <td>3.406763</td>\n",
       "      <td>1.531413</td>\n",
       "    </tr>\n",
       "    <tr>\n",
       "      <th>min</th>\n",
       "      <td>458982.000000</td>\n",
       "      <td>18.000000</td>\n",
       "      <td>0.000000</td>\n",
       "      <td>1.000000</td>\n",
       "    </tr>\n",
       "    <tr>\n",
       "      <th>25%</th>\n",
       "      <td>461240.750000</td>\n",
       "      <td>30.000000</td>\n",
       "      <td>0.000000</td>\n",
       "      <td>2.000000</td>\n",
       "    </tr>\n",
       "    <tr>\n",
       "      <th>50%</th>\n",
       "      <td>463472.500000</td>\n",
       "      <td>40.000000</td>\n",
       "      <td>1.000000</td>\n",
       "      <td>3.000000</td>\n",
       "    </tr>\n",
       "    <tr>\n",
       "      <th>75%</th>\n",
       "      <td>465744.250000</td>\n",
       "      <td>53.000000</td>\n",
       "      <td>4.000000</td>\n",
       "      <td>4.000000</td>\n",
       "    </tr>\n",
       "    <tr>\n",
       "      <th>max</th>\n",
       "      <td>467974.000000</td>\n",
       "      <td>89.000000</td>\n",
       "      <td>14.000000</td>\n",
       "      <td>9.000000</td>\n",
       "    </tr>\n",
       "  </tbody>\n",
       "</table>\n",
       "</div>"
      ],
      "text/plain": [
       "                  ID          Age  Work_Experience  Family_Size\n",
       "count    8068.000000  8068.000000      7239.000000  7733.000000\n",
       "mean   463479.214551    43.466906         2.641663     2.850123\n",
       "std      2595.381232    16.711696         3.406763     1.531413\n",
       "min    458982.000000    18.000000         0.000000     1.000000\n",
       "25%    461240.750000    30.000000         0.000000     2.000000\n",
       "50%    463472.500000    40.000000         1.000000     3.000000\n",
       "75%    465744.250000    53.000000         4.000000     4.000000\n",
       "max    467974.000000    89.000000        14.000000     9.000000"
      ]
     },
     "execution_count": 7,
     "metadata": {},
     "output_type": "execute_result"
    }
   ],
   "source": [
    "data.describe()"
   ]
  },
  {
   "cell_type": "code",
   "execution_count": 8,
   "id": "eec1eb20",
   "metadata": {
    "papermill": {
     "duration": 0.010023,
     "end_time": "2022-09-30T02:49:42.074585",
     "exception": false,
     "start_time": "2022-09-30T02:49:42.064562",
     "status": "completed"
    },
    "tags": []
   },
   "outputs": [],
   "source": [
    "#Dealing with null values"
   ]
  },
  {
   "cell_type": "code",
   "execution_count": 9,
   "id": "017fb4b8",
   "metadata": {},
   "outputs": [],
   "source": [
    "#filling NUll values with its mean value of thayt particular column"
   ]
  },
  {
   "cell_type": "code",
   "execution_count": 10,
   "id": "493d54c3",
   "metadata": {
    "execution": {
     "iopub.execute_input": "2022-09-30T02:49:42.093619Z",
     "iopub.status.busy": "2022-09-30T02:49:42.092643Z",
     "iopub.status.idle": "2022-09-30T02:49:42.105335Z",
     "shell.execute_reply": "2022-09-30T02:49:42.104182Z"
    },
    "papermill": {
     "duration": 0.024515,
     "end_time": "2022-09-30T02:49:42.108060",
     "exception": false,
     "start_time": "2022-09-30T02:49:42.083545",
     "status": "completed"
    },
    "tags": []
   },
   "outputs": [],
   "source": [
    "data.fillna(value={\"Work_Experience\":data[\"Work_Experience\"].mean(), \"Family_Size\":data[\"Family_Size\"].mean(), \"Ever_Married\": data[\"Ever_Married\"].mode()[0], \"Graduated\": data[\"Graduated\"].mode()[0], \"Profession\": data[\"Profession\"].mode()[0]}, inplace=True)"
   ]
  },
  {
   "cell_type": "code",
   "execution_count": 11,
   "id": "a673b5a4",
   "metadata": {},
   "outputs": [
    {
     "data": {
      "text/plain": [
       "ID                  0\n",
       "Gender              0\n",
       "Ever_Married        0\n",
       "Age                 0\n",
       "Graduated           0\n",
       "Profession          0\n",
       "Work_Experience     0\n",
       "Spending_Score      0\n",
       "Family_Size         0\n",
       "Var_1              76\n",
       "Segmentation        0\n",
       "dtype: int64"
      ]
     },
     "execution_count": 11,
     "metadata": {},
     "output_type": "execute_result"
    }
   ],
   "source": [
    "data.isnull().sum()"
   ]
  },
  {
   "cell_type": "code",
   "execution_count": 12,
   "id": "35990473",
   "metadata": {
    "execution": {
     "iopub.execute_input": "2022-09-30T02:49:42.124850Z",
     "iopub.status.busy": "2022-09-30T02:49:42.124392Z",
     "iopub.status.idle": "2022-09-30T02:49:42.142776Z",
     "shell.execute_reply": "2022-09-30T02:49:42.141247Z"
    },
    "papermill": {
     "duration": 0.029446,
     "end_time": "2022-09-30T02:49:42.145056",
     "exception": false,
     "start_time": "2022-09-30T02:49:42.115610",
     "status": "completed"
    },
    "tags": []
   },
   "outputs": [
    {
     "name": "stdout",
     "output_type": "stream",
     "text": [
      "<class 'pandas.core.frame.DataFrame'>\n",
      "RangeIndex: 8068 entries, 0 to 8067\n",
      "Data columns (total 9 columns):\n",
      "Gender             8068 non-null object\n",
      "Ever_Married       8068 non-null object\n",
      "Age                8068 non-null int64\n",
      "Graduated          8068 non-null object\n",
      "Profession         8068 non-null object\n",
      "Work_Experience    8068 non-null float64\n",
      "Spending_Score     8068 non-null object\n",
      "Family_Size        8068 non-null float64\n",
      "Segmentation       8068 non-null object\n",
      "dtypes: float64(2), int64(1), object(6)\n",
      "memory usage: 567.4+ KB\n"
     ]
    }
   ],
   "source": [
    "data.drop([\"Var_1\",\"ID\"], axis=1, inplace=True)\n",
    "data.info()"
   ]
  },
  {
   "cell_type": "markdown",
   "id": "bff9a1cb",
   "metadata": {
    "papermill": {
     "duration": 0.007774,
     "end_time": "2022-09-30T02:49:42.160529",
     "exception": false,
     "start_time": "2022-09-30T02:49:42.152755",
     "status": "completed"
    },
    "tags": []
   },
   "source": [
    "# Analysis"
   ]
  },
  {
   "cell_type": "code",
   "execution_count": 13,
   "id": "40be60a1",
   "metadata": {
    "execution": {
     "iopub.execute_input": "2022-09-30T02:49:42.177806Z",
     "iopub.status.busy": "2022-09-30T02:49:42.177220Z",
     "iopub.status.idle": "2022-09-30T02:49:43.908553Z",
     "shell.execute_reply": "2022-09-30T02:49:43.907364Z"
    },
    "papermill": {
     "duration": 1.742623,
     "end_time": "2022-09-30T02:49:43.911075",
     "exception": false,
     "start_time": "2022-09-30T02:49:42.168452",
     "status": "completed"
    },
    "tags": []
   },
   "outputs": [
    {
     "data": {
      "image/png": "[encoded data removed]",
      "text/plain": [
       "<Figure size 500x500 with 1 Axes>"
      ]
     },
     "metadata": {},
     "output_type": "display_data"
    },
    {
     "data": {
      "image/png": "[encoded data removed]",
      "text/plain": [
       "<Figure size 500x500 with 1 Axes>"
      ]
     },
     "metadata": {},
     "output_type": "display_data"
    },
    {
     "data": {
      "image/png": "[encoded data removed]",
      "text/plain": [
       "<Figure size 500x500 with 1 Axes>"
      ]
     },
     "metadata": {},
     "output_type": "display_data"
    },
    {
     "data": {
      "image/png": "[encoded data removed]",
      "text/plain": [
       "<Figure size 640x480 with 1 Axes>"
      ]
     },
     "metadata": {},
     "output_type": "display_data"
    },
    {
     "data": {
      "image/png": "[encoded data removed]",
      "text/plain": [
       "<Figure size 500x500 with 1 Axes>"
      ]
     },
     "metadata": {},
     "output_type": "display_data"
    },
    {
     "data": {
      "image/png": "[encoded data removed]",
      "text/plain": [
       "<Figure size 500x500 with 1 Axes>"
      ]
     },
     "metadata": {},
     "output_type": "display_data"
    },
    {
     "data": {
      "image/png": "[encoded data removed]",
      "text/plain": [
       "<Figure size 500x500 with 1 Axes>"
      ]
     },
     "metadata": {},
     "output_type": "display_data"
    },
    {
     "data": {
      "image/png": "[encoded data removed]",
      "text/plain": [
       "<Figure size 640x480 with 1 Axes>"
      ]
     },
     "metadata": {},
     "output_type": "display_data"
    },
    {
     "data": {
      "image/png": "[encoded data removed]",
      "text/plain": [
       "<Figure size 500x500 with 1 Axes>"
      ]
     },
     "metadata": {},
     "output_type": "display_data"
    },
    {
     "data": {
      "image/png": "[encoded data removed]",
      "text/plain": [
       "<Figure size 500x500 with 1 Axes>"
      ]
     },
     "metadata": {},
     "output_type": "display_data"
    },
    {
     "data": {
      "image/png": "[encoded data removed]",
      "text/plain": [
       "<Figure size 640x480 with 1 Axes>"
      ]
     },
     "metadata": {},
     "output_type": "display_data"
    },
    {
     "data": {
      "image/png": "[encoded data removed]",
      "text/plain": [
       "<Figure size 500x500 with 1 Axes>"
      ]
     },
     "metadata": {},
     "output_type": "display_data"
    }
   ],
   "source": [
    "for col in data.columns:\n",
    "    plt.figure(col, figsize=(5,5))\n",
    "    plt.title(col)\n",
    "    if is_numeric_dtype(data[col]):\n",
    "        data[col].plot(kind=\"hist\")\n",
    "        plt.show()\n",
    "        sns.boxplot(data=data, x=col)\n",
    "        \n",
    "        \n",
    "    if is_string_dtype(data[col]):\n",
    "        sns.countplot(x=col, data=data, order=data[col].value_counts().index)\n",
    "        plt.show()"
   ]
  },
  {
   "cell_type": "code",
   "execution_count": 14,
   "id": "9d3a6478",
   "metadata": {},
   "outputs": [],
   "source": [
    "#Label encoding"
   ]
  },
  {
   "cell_type": "code",
   "execution_count": 20,
   "id": "40ff2a38",
   "metadata": {},
   "outputs": [
    {
     "data": {
      "text/html": [
       "<div>\n",
       "<style scoped>\n",
       "    .dataframe tbody tr th:only-of-type {\n",
       "        vertical-align: middle;\n",
       "    }\n",
       "\n",
       "    .dataframe tbody tr th {\n",
       "        vertical-align: top;\n",
       "    }\n",
       "\n",
       "    .dataframe thead th {\n",
       "        text-align: right;\n",
       "    }\n",
       "</style>\n",
       "<table border=\"1\" class=\"dataframe\">\n",
       "  <thead>\n",
       "    <tr style=\"text-align: right;\">\n",
       "      <th></th>\n",
       "      <th>Gender</th>\n",
       "      <th>Ever_Married</th>\n",
       "      <th>Age</th>\n",
       "      <th>Graduated</th>\n",
       "      <th>Profession</th>\n",
       "      <th>Work_Experience</th>\n",
       "      <th>Spending_Score</th>\n",
       "      <th>Family_Size</th>\n",
       "      <th>Segmentation</th>\n",
       "    </tr>\n",
       "  </thead>\n",
       "  <tbody>\n",
       "    <tr>\n",
       "      <th>0</th>\n",
       "      <td>1</td>\n",
       "      <td>0</td>\n",
       "      <td>22</td>\n",
       "      <td>0</td>\n",
       "      <td>5</td>\n",
       "      <td>1.000000</td>\n",
       "      <td>2</td>\n",
       "      <td>4.0</td>\n",
       "      <td>3</td>\n",
       "    </tr>\n",
       "    <tr>\n",
       "      <th>1</th>\n",
       "      <td>0</td>\n",
       "      <td>1</td>\n",
       "      <td>38</td>\n",
       "      <td>1</td>\n",
       "      <td>2</td>\n",
       "      <td>2.641663</td>\n",
       "      <td>0</td>\n",
       "      <td>3.0</td>\n",
       "      <td>0</td>\n",
       "    </tr>\n",
       "    <tr>\n",
       "      <th>2</th>\n",
       "      <td>0</td>\n",
       "      <td>1</td>\n",
       "      <td>67</td>\n",
       "      <td>1</td>\n",
       "      <td>2</td>\n",
       "      <td>1.000000</td>\n",
       "      <td>2</td>\n",
       "      <td>1.0</td>\n",
       "      <td>1</td>\n",
       "    </tr>\n",
       "    <tr>\n",
       "      <th>3</th>\n",
       "      <td>1</td>\n",
       "      <td>1</td>\n",
       "      <td>67</td>\n",
       "      <td>1</td>\n",
       "      <td>7</td>\n",
       "      <td>0.000000</td>\n",
       "      <td>1</td>\n",
       "      <td>2.0</td>\n",
       "      <td>1</td>\n",
       "    </tr>\n",
       "    <tr>\n",
       "      <th>4</th>\n",
       "      <td>0</td>\n",
       "      <td>1</td>\n",
       "      <td>40</td>\n",
       "      <td>1</td>\n",
       "      <td>3</td>\n",
       "      <td>2.641663</td>\n",
       "      <td>1</td>\n",
       "      <td>6.0</td>\n",
       "      <td>0</td>\n",
       "    </tr>\n",
       "    <tr>\n",
       "      <th>...</th>\n",
       "      <td>...</td>\n",
       "      <td>...</td>\n",
       "      <td>...</td>\n",
       "      <td>...</td>\n",
       "      <td>...</td>\n",
       "      <td>...</td>\n",
       "      <td>...</td>\n",
       "      <td>...</td>\n",
       "      <td>...</td>\n",
       "    </tr>\n",
       "    <tr>\n",
       "      <th>8063</th>\n",
       "      <td>1</td>\n",
       "      <td>0</td>\n",
       "      <td>22</td>\n",
       "      <td>0</td>\n",
       "      <td>0</td>\n",
       "      <td>0.000000</td>\n",
       "      <td>2</td>\n",
       "      <td>7.0</td>\n",
       "      <td>3</td>\n",
       "    </tr>\n",
       "    <tr>\n",
       "      <th>8064</th>\n",
       "      <td>1</td>\n",
       "      <td>0</td>\n",
       "      <td>35</td>\n",
       "      <td>0</td>\n",
       "      <td>4</td>\n",
       "      <td>3.000000</td>\n",
       "      <td>2</td>\n",
       "      <td>4.0</td>\n",
       "      <td>3</td>\n",
       "    </tr>\n",
       "    <tr>\n",
       "      <th>8065</th>\n",
       "      <td>0</td>\n",
       "      <td>0</td>\n",
       "      <td>33</td>\n",
       "      <td>1</td>\n",
       "      <td>5</td>\n",
       "      <td>1.000000</td>\n",
       "      <td>2</td>\n",
       "      <td>1.0</td>\n",
       "      <td>3</td>\n",
       "    </tr>\n",
       "    <tr>\n",
       "      <th>8066</th>\n",
       "      <td>0</td>\n",
       "      <td>0</td>\n",
       "      <td>27</td>\n",
       "      <td>1</td>\n",
       "      <td>5</td>\n",
       "      <td>1.000000</td>\n",
       "      <td>2</td>\n",
       "      <td>4.0</td>\n",
       "      <td>1</td>\n",
       "    </tr>\n",
       "    <tr>\n",
       "      <th>8067</th>\n",
       "      <td>1</td>\n",
       "      <td>1</td>\n",
       "      <td>37</td>\n",
       "      <td>1</td>\n",
       "      <td>4</td>\n",
       "      <td>0.000000</td>\n",
       "      <td>0</td>\n",
       "      <td>3.0</td>\n",
       "      <td>1</td>\n",
       "    </tr>\n",
       "  </tbody>\n",
       "</table>\n",
       "<p>8068 rows × 9 columns</p>\n",
       "</div>"
      ],
      "text/plain": [
       "      Gender  Ever_Married  Age  Graduated  Profession  Work_Experience  \\\n",
       "0          1             0   22          0           5         1.000000   \n",
       "1          0             1   38          1           2         2.641663   \n",
       "2          0             1   67          1           2         1.000000   \n",
       "3          1             1   67          1           7         0.000000   \n",
       "4          0             1   40          1           3         2.641663   \n",
       "...      ...           ...  ...        ...         ...              ...   \n",
       "8063       1             0   22          0           0         0.000000   \n",
       "8064       1             0   35          0           4         3.000000   \n",
       "8065       0             0   33          1           5         1.000000   \n",
       "8066       0             0   27          1           5         1.000000   \n",
       "8067       1             1   37          1           4         0.000000   \n",
       "\n",
       "      Spending_Score  Family_Size  Segmentation  \n",
       "0                  2          4.0             3  \n",
       "1                  0          3.0             0  \n",
       "2                  2          1.0             1  \n",
       "3                  1          2.0             1  \n",
       "4                  1          6.0             0  \n",
       "...              ...          ...           ...  \n",
       "8063               2          7.0             3  \n",
       "8064               2          4.0             3  \n",
       "8065               2          1.0             3  \n",
       "8066               2          4.0             1  \n",
       "8067               0          3.0             1  \n",
       "\n",
       "[8068 rows x 9 columns]"
      ]
     },
     "execution_count": 20,
     "metadata": {},
     "output_type": "execute_result"
    }
   ],
   "source": [
    "# Assuming 'data' is your DataFrame\n",
    "columns_to_encode = ['Gender', 'Ever_Married', 'Graduated', 'Profession', 'Spending_Score', 'Segmentation']\n",
    "\n",
    "# Initialize a LabelEncoder\n",
    "le = LabelEncoder()\n",
    "\n",
    "for col in columns_to_encode:\n",
    "    data[col] = le.fit_transform(data[col])\n",
    "\n",
    "data\n"
   ]
  },
  {
   "cell_type": "code",
   "execution_count": 21,
   "id": "a5d7f6d2",
   "metadata": {},
   "outputs": [],
   "source": [
    "#define X as set of independent features and y as dependent feature\n",
    "X=data.drop(['Segmentation'], axis=1)\n",
    "y=data['Segmentation']\n"
   ]
  },
  {
   "cell_type": "code",
   "execution_count": 22,
   "id": "87315657",
   "metadata": {},
   "outputs": [],
   "source": [
    "#Standard Scaler"
   ]
  },
  {
   "cell_type": "code",
   "execution_count": 24,
   "id": "50afe8b5",
   "metadata": {},
   "outputs": [
    {
     "data": {
      "text/plain": [
       "array([[ 9.09163971e-01, -1.20665330e+00, -1.28462344e+00, ...,\n",
       "        -5.08763331e-01,  7.54461997e-01,  7.67001223e-01],\n",
       "       [-1.09991160e+00,  8.28738465e-01, -3.27150819e-01, ...,\n",
       "         7.04554027e-17, -1.60301259e+00,  9.99723816e-02],\n",
       "       [-1.09991160e+00,  8.28738465e-01,  1.40826831e+00, ...,\n",
       "        -5.08763331e-01,  7.54461997e-01, -1.23408530e+00],\n",
       "       ...,\n",
       "       [-1.09991160e+00, -1.20665330e+00, -6.26361012e-01, ...,\n",
       "        -5.08763331e-01,  7.54461997e-01, -1.23408530e+00],\n",
       "       [-1.09991160e+00, -1.20665330e+00, -9.85413245e-01, ...,\n",
       "        -5.08763331e-01,  7.54461997e-01,  7.67001223e-01],\n",
       "       [ 9.09163971e-01,  8.28738465e-01, -3.86992857e-01, ...,\n",
       "        -8.18670580e-01, -1.60301259e+00,  9.99723816e-02]])"
      ]
     },
     "execution_count": 24,
     "metadata": {},
     "output_type": "execute_result"
    }
   ],
   "source": [
    "#Use Standard Scaler to normalize data on one scale.\n",
    "scaler=StandardScaler()\n",
    "X=scaler.fit_transform(X)\n",
    "X"
   ]
  },
  {
   "cell_type": "code",
   "execution_count": 25,
   "id": "19bbc8b2",
   "metadata": {},
   "outputs": [
    {
     "data": {
      "text/plain": [
       "0       3\n",
       "1       0\n",
       "2       1\n",
       "3       1\n",
       "4       0\n",
       "       ..\n",
       "8063    3\n",
       "8064    3\n",
       "8065    3\n",
       "8066    1\n",
       "8067    1\n",
       "Name: Segmentation, Length: 8068, dtype: int64"
      ]
     },
     "execution_count": 25,
     "metadata": {},
     "output_type": "execute_result"
    }
   ],
   "source": [
    "y"
   ]
  },
  {
   "cell_type": "markdown",
   "id": "b70cd5d0",
   "metadata": {
    "papermill": {
     "duration": 0.020089,
     "end_time": "2022-09-30T02:50:02.374875",
     "exception": false,
     "start_time": "2022-09-30T02:50:02.354786",
     "status": "completed"
    },
    "tags": []
   },
   "source": [
    "#  Data splitting "
   ]
  },
  {
   "cell_type": "code",
   "execution_count": 28,
   "id": "70eb0083",
   "metadata": {
    "execution": {
     "iopub.execute_input": "2022-09-30T02:50:02.419176Z",
     "iopub.status.busy": "2022-09-30T02:50:02.418283Z",
     "iopub.status.idle": "2022-09-30T02:50:56.542163Z",
     "shell.execute_reply": "2022-09-30T02:50:56.540625Z"
    },
    "papermill": {
     "duration": 54.168889,
     "end_time": "2022-09-30T02:50:56.564585",
     "exception": false,
     "start_time": "2022-09-30T02:50:02.395696",
     "status": "completed"
    },
    "tags": []
   },
   "outputs": [],
   "source": [
    "# Devide dataset into testing (20%) and training (80%)\n",
    "X_train, X_test, y_train, y_test=train_test_split(X,y,test_size=0.2, random_state=42)\n"
   ]
  },
  {
   "cell_type": "code",
   "execution_count": 29,
   "id": "53d86342",
   "metadata": {},
   "outputs": [
    {
     "data": {
      "text/plain": [
       "(6454, 8)"
      ]
     },
     "execution_count": 29,
     "metadata": {},
     "output_type": "execute_result"
    }
   ],
   "source": [
    "X_train.shape"
   ]
  },
  {
   "cell_type": "code",
   "execution_count": 30,
   "id": "839a4f42",
   "metadata": {},
   "outputs": [
    {
     "data": {
      "text/plain": [
       "(6454,)"
      ]
     },
     "execution_count": 30,
     "metadata": {},
     "output_type": "execute_result"
    }
   ],
   "source": [
    "y_train.shape"
   ]
  },
  {
   "cell_type": "code",
   "execution_count": 32,
   "id": "78a4dc70",
   "metadata": {},
   "outputs": [
    {
     "data": {
      "text/plain": [
       "(1614, 8)"
      ]
     },
     "execution_count": 32,
     "metadata": {},
     "output_type": "execute_result"
    }
   ],
   "source": [
    "X_test.shape"
   ]
  },
  {
   "cell_type": "code",
   "execution_count": null,
   "id": "a2404d7a",
   "metadata": {},
   "outputs": [],
   "source": []
  }
 ],
 "metadata": {
  "kernelspec": {
   "display_name": "Python 3 (ipykernel)",
   "language": "python",
   "name": "python3"
  },
  "language_info": {
   "codemirror_mode": {
    "name": "ipython",
    "version": 3
   },
   "file_extension": ".py",
   "mimetype": "text/x-python",
   "name": "python",
   "nbconvert_exporter": "python",
   "pygments_lexer": "ipython3",
   "version": "3.7.6"
  },
  "papermill": {
   "default_parameters": {},
   "duration": 86.286922,
   "end_time": "2022-09-30T02:50:57.605666",
   "environment_variables": {},
   "exception": null,
   "input_path": "__notebook__.ipynb",
   "output_path": "__notebook__.ipynb",
   "parameters": {},
   "start_time": "2022-09-30T02:49:31.318744",
   "version": "2.3.4"
  }
 },
 "nbformat": 4,
 "nbformat_minor": 5
}
